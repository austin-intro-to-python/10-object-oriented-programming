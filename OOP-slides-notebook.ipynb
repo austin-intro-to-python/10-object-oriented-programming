{
 "cells": [
  {
   "cell_type": "code",
   "execution_count": 5,
   "id": "454fc90a",
   "metadata": {},
   "outputs": [
    {
     "data": {
      "text/plain": [
       "['Toyota', 'Honda', 'Subaru', 'Mercedes', 'Ford']"
      ]
     },
     "execution_count": 5,
     "metadata": {},
     "output_type": "execute_result"
    }
   ],
   "source": [
    "# Methods are functions that objects can perform\n",
    "cars = ['Toyota', 'Honda', 'Subaru', 'Mercedes']\n",
    "cars.append('Ford')\n",
    "cars"
   ]
  },
  {
   "cell_type": "code",
   "execution_count": 6,
   "id": "f11af432",
   "metadata": {},
   "outputs": [
    {
     "name": "stdout",
     "output_type": "stream",
     "text": [
      "Ford\n",
      "['Toyota', 'Honda', 'Subaru', 'Mercedes']\n"
     ]
    }
   ],
   "source": [
    "# Methods are functions that objects can perform\n",
    "this_car = cars.pop()\n",
    "print(this_car)\n",
    "print(cars)"
   ]
  },
  {
   "cell_type": "code",
   "execution_count": 1,
   "id": "dcea96c7",
   "metadata": {},
   "outputs": [],
   "source": [
    "#  We've Been Using Classes All Along!\n",
    "colors = [\"red\", \"green\", \"blue\"]\n",
    "lucky_numbers = [13, 28, 777]"
   ]
  },
  {
   "cell_type": "markdown",
   "id": "0360ba97",
   "metadata": {},
   "source": [
    "#  Defining a Class"
   ]
  },
  {
   "cell_type": "code",
   "execution_count": 13,
   "id": "b2d2d871",
   "metadata": {},
   "outputs": [],
   "source": [
    "# Anything indented beneath the class will define the class\n",
    "class Dog:   \n",
    "    pass"
   ]
  },
  {
   "cell_type": "code",
   "execution_count": 14,
   "id": "7187449a",
   "metadata": {},
   "outputs": [],
   "source": [
    "# We're going to eventually use the class like a function to create new objects:\n",
    "fido = Dog()\n",
    "poochie = Dog()"
   ]
  },
  {
   "cell_type": "code",
   "execution_count": 15,
   "id": "c5c1fa67",
   "metadata": {},
   "outputs": [],
   "source": [
    "# setting up the init method\n",
    "class Dog:\n",
    "    def __init__(self, name, age):\n",
    "        self.name = name \n",
    "        self.age = age\n"
   ]
  },
  {
   "cell_type": "code",
   "execution_count": 17,
   "id": "55d2d9d7",
   "metadata": {},
   "outputs": [
    {
     "name": "stdout",
     "output_type": "stream",
     "text": [
      "Fido\n",
      "8\n"
     ]
    }
   ],
   "source": [
    "# try it out\n",
    "fido = Dog(\"Fido\", 8)\n",
    "print(fido.name)\n",
    "print(fido.age)"
   ]
  },
  {
   "cell_type": "code",
   "execution_count": 18,
   "id": "e606eb36",
   "metadata": {},
   "outputs": [],
   "source": [
    "# Useful Patterns in the Init Method\n",
    "class Dog:\n",
    "    def __init__(self, name, age):\n",
    "        if age < 0:\n",
    "            self.age = 0\n",
    "        else:\n",
    "            self.age = age\n",
    "        self.good_dog = True\n",
    "        self.name = name "
   ]
  },
  {
   "cell_type": "code",
   "execution_count": 19,
   "id": "b6296184",
   "metadata": {},
   "outputs": [
    {
     "name": "stdout",
     "output_type": "stream",
     "text": [
      "Fido\n",
      "8\n"
     ]
    }
   ],
   "source": [
    "# try it out\n",
    "fido = Dog(\"Fido\", 8)\n",
    "print(fido.name)\n",
    "print(fido.age)"
   ]
  },
  {
   "cell_type": "code",
   "execution_count": 21,
   "id": "e8eeea8e",
   "metadata": {},
   "outputs": [],
   "source": [
    "#  Default Values in Methods\n",
    "class Dog:\n",
    "    def __init__(self, name=\"poochie\", age=0):\n",
    "        self.name = name \n",
    "        self.age = age\n"
   ]
  },
  {
   "cell_type": "code",
   "execution_count": 23,
   "id": "ed7d6e4d",
   "metadata": {},
   "outputs": [
    {
     "name": "stdout",
     "output_type": "stream",
     "text": [
      "poochie\n",
      "0\n"
     ]
    }
   ],
   "source": [
    "# try it out\n",
    "default_dog = Dog()\n",
    "print(default_dog.name)\n",
    "print(default_dog.age)"
   ]
  },
  {
   "cell_type": "markdown",
   "id": "29e81c19",
   "metadata": {},
   "source": [
    "#  What about Defining Methods in a Class?"
   ]
  },
  {
   "cell_type": "code",
   "execution_count": 26,
   "id": "216a177e",
   "metadata": {},
   "outputs": [],
   "source": [
    "#  Our Dog has Properties and Methods\n",
    "class Dog:\n",
    "    def __init__(self, name, age):\n",
    "        self.name = name \n",
    "        self.age = age\n",
    "    def speak(self):\n",
    "        print(f\"Bark! Bark! My name is {self.name}\")\n",
    " "
   ]
  },
  {
   "cell_type": "code",
   "execution_count": 28,
   "id": "c37a69c9",
   "metadata": {},
   "outputs": [
    {
     "name": "stdout",
     "output_type": "stream",
     "text": [
      "Bark! Bark! My name is poochy\n"
     ]
    }
   ],
   "source": [
    "# try it out\n",
    "poochy = Dog(\"poochy\", 3) \n",
    "poochy.speak()\n"
   ]
  },
  {
   "cell_type": "code",
   "execution_count": 31,
   "id": "823eb447",
   "metadata": {},
   "outputs": [
    {
     "ename": "TypeError",
     "evalue": "speak() takes 0 positional arguments but 1 was given",
     "output_type": "error",
     "traceback": [
      "\u001b[0;31m---------------------------------------------------------------------------\u001b[0m",
      "\u001b[0;31mTypeError\u001b[0m                                 Traceback (most recent call last)",
      "\u001b[0;32m/var/folders/2l/f34xc_012glb01q2tq40qxgw0000gn/T/ipykernel_27288/2319578604.py\u001b[0m in \u001b[0;36m<module>\u001b[0;34m\u001b[0m\n\u001b[1;32m      8\u001b[0m \u001b[0;34m\u001b[0m\u001b[0m\n\u001b[1;32m      9\u001b[0m \u001b[0mpoochy\u001b[0m \u001b[0;34m=\u001b[0m \u001b[0mDog\u001b[0m\u001b[0;34m(\u001b[0m\u001b[0;34m\"poochy\"\u001b[0m\u001b[0;34m,\u001b[0m \u001b[0;36m3\u001b[0m\u001b[0;34m)\u001b[0m\u001b[0;34m\u001b[0m\u001b[0;34m\u001b[0m\u001b[0m\n\u001b[0;32m---> 10\u001b[0;31m \u001b[0mpoochy\u001b[0m\u001b[0;34m.\u001b[0m\u001b[0mspeak\u001b[0m\u001b[0;34m(\u001b[0m\u001b[0;34m)\u001b[0m\u001b[0;34m\u001b[0m\u001b[0;34m\u001b[0m\u001b[0m\n\u001b[0m",
      "\u001b[0;31mTypeError\u001b[0m: speak() takes 0 positional arguments but 1 was given"
     ]
    }
   ],
   "source": [
    "# A Common Error of Python Classes\n",
    "class Dog:\n",
    "    def __init__(self, name, age):\n",
    "        self.name = name \n",
    "        self.age = age\n",
    "    def speak():\n",
    "        print(f\"Bark! Bark! My name is {self.name}\")\n",
    "\n",
    "poochy = Dog(\"poochy\", 3) \n",
    "poochy.speak()"
   ]
  },
  {
   "cell_type": "markdown",
   "id": "ec82459f",
   "metadata": {},
   "source": [
    "#  Accessing Properties Within Methods"
   ]
  },
  {
   "cell_type": "code",
   "execution_count": 32,
   "id": "f4f5330b",
   "metadata": {},
   "outputs": [],
   "source": [
    "class TeaCup:\n",
    "    def __init__(self, capacity):\n",
    "        self.capacity = capacity # Total ounces the cup holds.\n",
    "        self.amount = 0 # Current ounces in the cup. All cups start empty!\n",
    "    def fill(self):\n",
    "        self.amount = self.capacity\n",
    "    def empty(self): \n",
    "        self.amount = 0\n",
    "    def drink(self, amount_to_drink): \n",
    "        self.amount -= amount_to_drink"
   ]
  },
  {
   "cell_type": "code",
   "execution_count": 39,
   "id": "e971a7bb",
   "metadata": {},
   "outputs": [
    {
     "name": "stdout",
     "output_type": "stream",
     "text": [
      "0\n"
     ]
    }
   ],
   "source": [
    "# try it out!\n",
    "earl_grey = TeaCup(12)\n",
    "print(earl_grey.amount)\n"
   ]
  },
  {
   "cell_type": "code",
   "execution_count": 41,
   "id": "fa618996",
   "metadata": {},
   "outputs": [
    {
     "name": "stdout",
     "output_type": "stream",
     "text": [
      "None\n",
      "12\n",
      "None\n",
      "0\n",
      "None\n",
      "None\n",
      "6\n"
     ]
    }
   ],
   "source": [
    "# round 1\n",
    "print(earl_grey.fill())\n",
    "print(earl_grey.amount)\n",
    "# round 2\n",
    "print(earl_grey.empty())\n",
    "print(earl_grey.amount)\n",
    "# round 3\n",
    "print(earl_grey.fill())\n",
    "print(earl_grey.drink(6))\n",
    "print(earl_grey.amount)"
   ]
  },
  {
   "cell_type": "code",
   "execution_count": null,
   "id": "c123c9e1",
   "metadata": {},
   "outputs": [],
   "source": []
  }
 ],
 "metadata": {
  "kernelspec": {
   "display_name": "Python 3 (ipykernel)",
   "language": "python",
   "name": "python3"
  },
  "language_info": {
   "codemirror_mode": {
    "name": "ipython",
    "version": 3
   },
   "file_extension": ".py",
   "mimetype": "text/x-python",
   "name": "python",
   "nbconvert_exporter": "python",
   "pygments_lexer": "ipython3",
   "version": "3.9.7"
  }
 },
 "nbformat": 4,
 "nbformat_minor": 5
}
