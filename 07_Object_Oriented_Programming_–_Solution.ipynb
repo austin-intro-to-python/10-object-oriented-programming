{
  "cells": [
    {
      "cell_type": "markdown",
      "metadata": {
        "id": "-7mTIwxOQmqU"
      },
      "source": [
        "#### First Class"
      ]
    },
    {
      "cell_type": "code",
      "execution_count": null,
      "metadata": {
        "id": "Woy6Zn8fQmqY"
      },
      "outputs": [],
      "source": [
        "# A. Create a class for musical artists called Musician.\n",
        "# Musicians should have name and genre properties set by parameters in the init method.\n",
        "# Musicians should also have an albums_sold property that always starts at 0.\n",
        "# If the user doesn't provide a genre, the default value should be \"Pop\"\n",
        "\n",
        "class Musician:\n",
        "    def __init__(self, name, genre=\"Pop\"):\n",
        "        self.name = name\n",
        "        self.genre = genre\n",
        "        self.albums_sold = 0"
      ]
    },
    {
      "cell_type": "code",
      "execution_count": null,
      "metadata": {
        "id": "1uuH5TTYQmqa"
      },
      "outputs": [],
      "source": [
        "# B. Instantiate, or create, three instances of the Musician class with different names and genres\n",
        "yeah_yeah_yeahs = Musician(\"Yeah Yeah Yeahs\", \"Garage Rock\")\n",
        "mr_universe = Musician(\"Mr. Universe\", \"Beach rock\")\n",
        "prince = Musician(\"Prince\", \"Not Applicable\")"
      ]
    },
    {
      "cell_type": "markdown",
      "metadata": {
        "id": "GN6jsnvcQmqb"
      },
      "source": [
        "#### House of Cards"
      ]
    },
    {
      "cell_type": "code",
      "execution_count": null,
      "metadata": {
        "id": "mKxfFJwKQmqb"
      },
      "outputs": [],
      "source": [
        "# A. Create a Card class with two properties:\n",
        "# Suit (Hearts, Clubs, Spades, or Diamonds)\n",
        "# Face (2 through 10, Jack, Queen, King, or Ace)\n",
        "class Card:\n",
        "    def __init__(self, suit, face):\n",
        "        self.suit = suit\n",
        "        self.face = face"
      ]
    },
    {
      "cell_type": "code",
      "execution_count": null,
      "metadata": {
        "id": "xfafbnxGQmqd"
      },
      "outputs": [],
      "source": [
        "# B. Then, fill up the cards list with cards containing all 52 combinations of the above properties.\n",
        "# Hint: You will want to create lists of the possible suits and faces so you can loop through them\n",
        "cards = []\n",
        "suits = [\"Diamonds\", \"Clubs\", \"Hearts\", \"Spades\"]\n",
        "faces = [2,3,4,5,6,7,8,9,10,\"Jack\",\"Queen\",\"King\",\"Ace\"]\n",
        "\n",
        "for suit in suits:\n",
        "    for face in faces:\n",
        "        new_card = Card(suit, face)\n",
        "        cards.append(new_card)"
      ]
    },
    {
      "cell_type": "markdown",
      "metadata": {
        "id": "B7uqEyIQQmqe"
      },
      "source": [
        "#### Getting the Band Together\n",
        "Create a Band class. A Band should have the following properties and methods:  \n",
        "name: String  \n",
        "members: a list of Strings, defaults to an empty list  \n",
        "introduce_lineup(): a method that prints all of the strings in members  \n",
        "add_member(new_member): a method that adds a new member to the members then invokes introduce_lineup\n",
        "kick_out(old_member): a method that removes the given member from the members list. If the members list is empty, add a disbanded property equal to True. Otherwise, invoke introduce_lineup\n"
      ]
    },
    {
      "cell_type": "code",
      "execution_count": null,
      "metadata": {
        "id": "x9lsP0hUQmqe"
      },
      "outputs": [],
      "source": [
        "class Band:\n",
        "    def __init__(self, name, members=[]):\n",
        "        self.name = name\n",
        "        self.members = members\n",
        "        \n",
        "    def introduce_lineup(self):\n",
        "        for member in self.members:\n",
        "            print(member)\n",
        "            \n",
        "    def add_member(self, new_member):\n",
        "        self.members.append(new_member)\n",
        "        self.introduce_lineup()\n",
        "        \n",
        "    def kick_out(self, old_member):\n",
        "        self.members.remove(old_member)\n",
        "        if len(self.members) == 0:\n",
        "            self.disbanded = True\n",
        "        else:\n",
        "            self.introduce_lineup()"
      ]
    },
    {
      "cell_type": "markdown",
      "metadata": {
        "id": "nuYGtU6hQmqg"
      },
      "source": [
        "#### Bands part 2\n",
        "Create the following subclasses that extend the Band class functionality"
      ]
    },
    {
      "cell_type": "code",
      "execution_count": null,
      "metadata": {
        "id": "0zcxp1jmQmqg"
      },
      "outputs": [],
      "source": [
        "# A. Punk bands have a street_cred property set to True and earnings property set to 0\n",
        "# sell_out(amount): a method that changes street_cred to False and earnings increase by amount\n",
        "# destroy_hotel_room(): a method that changes street_cred to True and earnings decrease by 5000\n",
        "class Punk(Band):\n",
        "    def __init__(self, name, members):\n",
        "        super().__init__(name, members)\n",
        "        self.street_cred = True\n",
        "        self.earnings = 0\n",
        "        \n",
        "    def sell_out(self, amount):\n",
        "        self.street_cred = False\n",
        "        self.earnings += amount\n",
        "        \n",
        "    def destroy_hotel_room(self):\n",
        "        self.street_cred = True\n",
        "        self.earnings -= 5000"
      ]
    },
    {
      "cell_type": "code",
      "execution_count": null,
      "metadata": {
        "id": "jg7mwES9Qmqg"
      },
      "outputs": [],
      "source": [
        "# B. Jazz bands have a songbook property set to an empty list\n",
        "# add_song(song_title): a method that adds the given song_title to the songbook\n",
        "# solo(): a method that prints a message saying \"____ is cooking!\" \n",
        "# fill in the blank with the first string in the members list, then move that member to the end of the list\n",
        "class Jazz(Band):\n",
        "    def __init__(self, name, members):\n",
        "        super().__init__(name, members)\n",
        "        self.songbook = []\n",
        "        \n",
        "    def add_song(self, song_title):\n",
        "        self.songbook.append(song_title)\n",
        "        \n",
        "    def solo(self):\n",
        "        print(f\"{self.members[0]} is cooking!\")\n",
        "        self.members.append(self.members.pop(0))"
      ]
    },
    {
      "cell_type": "markdown",
      "metadata": {
        "id": "R3T2p3bBQmqh"
      },
      "source": [
        "#### RPG Characters\n",
        "Use inheritance to set up a combat simulation for a Role-Playing Game. The Character class will set up default properties for every character in the game, while the more specific classes will create more interesting, playable characters."
      ]
    },
    {
      "cell_type": "code",
      "execution_count": null,
      "metadata": {
        "id": "Qj30Ld4yQmqi"
      },
      "outputs": [],
      "source": [
        "# A. Create a Character class with the following properties and methods:\n",
        "# health: default 100, damage: default 10, items: default empty list\n",
        "# attack(target): lowers the target's health property by the character's damage property\n",
        "# display_stats(): prints a message including the characters health, damage, and items\n",
        "class Character:\n",
        "    def __init__(self, health = 100, damage = 10, items = []):\n",
        "        self.health = health\n",
        "        self.damage = damage\n",
        "        self.items = items\n",
        "        \n",
        "    def attack(self, target):\n",
        "        target.health -= self.damage\n",
        "        \n",
        "    def display_stats(self):\n",
        "        print(f\"Health: {self.health} Damage: {self.damage} Items: {self.items}\")"
      ]
    },
    {
      "cell_type": "code",
      "execution_count": null,
      "metadata": {
        "id": "1gn7bw9cQmqi"
      },
      "outputs": [],
      "source": [
        "# B. The Fighter class should inherit from the character class with the following additions:\n",
        "# health is always 200, damage is always 15, items includes \"magic sword\"\n",
        "# a new property named berserker that defaults to 2\n",
        "# beast_mode(target): use the attack() method on the target X times, where X is the berserker amount. The Fighter loses 5 health for each attack.\n",
        "class Fighter(Character):\n",
        "    def __init__(self):\n",
        "        super().__init__(200, 15, [\"magic sword\"])\n",
        "        self.berserker = 2\n",
        "        \n",
        "    def beast_mode(self, target):\n",
        "        for i in range(self.berserker):\n",
        "            self.attack(target)\n",
        "            self.health -= 5"
      ]
    },
    {
      "cell_type": "code",
      "execution_count": null,
      "metadata": {
        "id": "1VjuihlEQmqj"
      },
      "outputs": [],
      "source": [
        "# C. The Wizard class should inherit from the character class with the following additions:\n",
        "# health is 75, damage is 30, items includes \"health_potion\" and \"strength_potion\"\n",
        "# heal(target): if the items list contains \"health_potion\", remove one and increase target's health by 25\n",
        "# buff(target): if the items list contains \"strength_potion\", remove one and increase target's damage by 10\n",
        "class Wizard(Character):\n",
        "    def __init__(self):\n",
        "        super().__init__(75, 30, [\"health_potion\", \"strength_potion\"])\n",
        "        \n",
        "    def heal(self, target):\n",
        "        if \"health_potion\" in self.items:\n",
        "            target.health += 25\n",
        "            self.items.remove(\"health_potion\")\n",
        "            \n",
        "    def buff(self, target):\n",
        "        if \"strength_potion\" in self.items:\n",
        "            target.damage += 10\n",
        "            self.items.remove(\"strength_potion\")"
      ]
    },
    {
      "cell_type": "code",
      "execution_count": null,
      "metadata": {
        "id": "sPfjBFcyQmqj",
        "outputId": "78ade49b-b017-4299-c6ff-1c6f3989b87b"
      },
      "outputs": [
        {
          "name": "stdout",
          "output_type": "stream",
          "text": [
            "After 1 rounds of combat:\n",
            "The orc\n",
            "Health: 70 Damage: 5 Items: []\n",
            "alfhildr\n",
            "Health: 185 Damage: 25 Items: ['magic sword']\n",
            "gandalf\n",
            "Health: 75 Damage: 30 Items: ['health_potion']\n",
            "After 2 rounds of combat:\n",
            "The orc\n",
            "Health: 20 Damage: 5 Items: []\n",
            "alfhildr\n",
            "Health: 195 Damage: 25 Items: ['magic sword']\n",
            "gandalf\n",
            "Health: 75 Damage: 30 Items: []\n",
            "After 3 rounds of combat:\n",
            "The orc\n",
            "Health: -60 Damage: 5 Items: []\n",
            "alfhildr\n",
            "Health: 180 Damage: 25 Items: ['magic sword']\n",
            "gandalf\n",
            "Health: 75 Damage: 30 Items: []\n"
          ]
        }
      ],
      "source": [
        "# Test the classes using this combat simulation below. It should run without errors.\n",
        "alfhildr = Fighter()\n",
        "gandalf = Wizard()\n",
        "orc = Character(100, 5)\n",
        "rounds_of_combat = 1\n",
        "\n",
        "while(orc.health > 0 and alfhildr.health > 0):\n",
        "    orc.attack(alfhildr)\n",
        "    alfhildr.beast_mode(orc)\n",
        "    if \"strength_potion\" in gandalf.items:\n",
        "        gandalf.buff(alfhildr)\n",
        "    elif \"health_potion\" in gandalf.items:\n",
        "        gandalf.heal(alfhildr)\n",
        "    else:\n",
        "        gandalf.attack(orc)\n",
        "    print(f\"After {rounds_of_combat} rounds of combat:\")\n",
        "    print(f\"The orc\")\n",
        "    orc.display_stats()\n",
        "    print(f\"alfhildr\")\n",
        "    alfhildr.display_stats()\n",
        "    print(f\"gandalf\")\n",
        "    gandalf.display_stats()\n",
        "    rounds_of_combat += 1"
      ]
    },
    {
      "cell_type": "code",
      "execution_count": null,
      "metadata": {
        "id": "A4n4kyc5Qmqn"
      },
      "outputs": [],
      "source": [
        "# The output should look like the following log:\n",
        "# After 1 rounds of combat:\n",
        "# The orc\n",
        "# Health: 70 Damage: 5 Items: []\n",
        "# alfhildr\n",
        "# Health: 185 Damage: 25 Items: ['magic sword']\n",
        "# gandalf\n",
        "# Health: 75 Damage: 30 Items: ['health_potion']\n",
        "# After 2 rounds of combat:\n",
        "# The orc\n",
        "# Health: 20 Damage: 5 Items: []\n",
        "# alfhildr\n",
        "# Health: 195 Damage: 25 Items: ['magic sword']\n",
        "# gandalf\n",
        "# Health: 75 Damage: 30 Items: []\n",
        "# After 3 rounds of combat:\n",
        "# The orc\n",
        "# Health: -60 Damage: 5 Items: []\n",
        "# alfhildr\n",
        "# Health: 180 Damage: 25 Items: ['magic sword']\n",
        "# gandalf\n",
        "# Health: 75 Damage: 30 Items: []"
      ]
    }
  ],
  "metadata": {
    "kernelspec": {
      "display_name": "Python 3",
      "language": "python",
      "name": "python3"
    },
    "language_info": {
      "codemirror_mode": {
        "name": "ipython",
        "version": 3
      },
      "file_extension": ".py",
      "mimetype": "text/x-python",
      "name": "python",
      "nbconvert_exporter": "python",
      "pygments_lexer": "ipython3",
      "version": "3.7.6"
    },
    "colab": {
      "name": "07. Object Oriented Programming – Solution.ipynb",
      "provenance": [],
      "toc_visible": true
    }
  },
  "nbformat": 4,
  "nbformat_minor": 0
}